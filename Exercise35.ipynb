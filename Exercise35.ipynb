{
 "metadata": {
  "language_info": {
   "codemirror_mode": {
    "name": "ipython",
    "version": 3
   },
   "file_extension": ".py",
   "mimetype": "text/x-python",
   "name": "python",
   "nbconvert_exporter": "python",
   "pygments_lexer": "ipython3",
   "version": "3.8.3-final"
  },
  "orig_nbformat": 2,
  "kernelspec": {
   "name": "python3",
   "display_name": "Python 3"
  }
 },
 "nbformat": 4,
 "nbformat_minor": 2,
 "cells": [
  {
   "source": [
    "#  53 Python Exercises and Questions for Beginners\n",
    "by mosh"
   ],
   "cell_type": "markdown",
   "metadata": {}
  },
  {
   "source": [
    "# Basics"
   ],
   "cell_type": "markdown",
   "metadata": {}
  },
  {
   "source": [
    "## What is an expression?<br>\n",
    "An __expression__ is a combination of values, variables, operators, and calls to functions.\n"
   ],
   "cell_type": "markdown",
   "metadata": {}
  },
  {
   "source": [
    "## What is a syntax error?\n",
    "__Syntax error__ mean that your programs doesn't fit python grammar, also known as PEP"
   ],
   "cell_type": "markdown",
   "metadata": {}
  },
  {
   "source": [
    "## What is PEP8?\n",
    "PEP:Python Enhancement Proposals"
   ],
   "cell_type": "markdown",
   "metadata": {}
  },
  {
   "source": [
    "## What does a linter do?<br>\n"
   ],
   "cell_type": "markdown",
   "metadata": {}
  },
  {
   "source": [
    "## What is the result of this expression: “*” * 10<br>\n"
   ],
   "cell_type": "markdown",
   "metadata": {}
  },
  {
   "source": [
    "## What is CPython?<br>\n"
   ],
   "cell_type": "markdown",
   "metadata": {}
  },
  {
   "source": [
    "## How is CPython different from Jython?<br>\n"
   ],
   "cell_type": "markdown",
   "metadata": {}
  },
  {
   "source": [
    "## How is CPython different from IronPython?<br>"
   ],
   "cell_type": "markdown",
   "metadata": {}
  },
  {
   "source": [
    "# Primitive Types"
   ],
   "cell_type": "markdown",
   "metadata": {}
  },
  {
   "source": [
    "## What is a variable?\n"
   ],
   "cell_type": "markdown",
   "metadata": {}
  },
  {
   "source": [
    "## What are the primitive built-in types in Python?\n"
   ],
   "cell_type": "markdown",
   "metadata": {}
  },
  {
   "cell_type": "code",
   "execution_count": 56,
   "metadata": {},
   "outputs": [],
   "source": [
    "## When should we use “”” (tripe quotes) to define strings?\n"
   ]
  },
  {
   "source": [
    "## Assuming (name = “John Smith”), what does name[1] return?\n"
   ],
   "cell_type": "markdown",
   "metadata": {}
  },
  {
   "source": [
    "## What about name [-2] ? \n"
   ],
   "cell_type": "code",
   "metadata": {},
   "execution_count": 57,
   "outputs": []
  },
  {
   "source": [
    "## What about name[1:-1]?\n"
   ],
   "cell_type": "code",
   "metadata": {},
   "execution_count": 58,
   "outputs": []
  },
  {
   "source": [
    "## How to get the length of name?\n"
   ],
   "cell_type": "markdown",
   "metadata": {}
  },
  {
   "source": [
    "## What are the escape sequences in Python?\n"
   ],
   "cell_type": "markdown",
   "metadata": {}
  },
  {
   "cell_type": "code",
   "execution_count": 59,
   "metadata": {},
   "outputs": [],
   "source": [
    "## What is the result of f“{2+2}+{10%3}”?\n"
   ]
  },
  {
   "source": [
    "## Given (name = “john smith”), what will name.title() return?\n"
   ],
   "cell_type": "markdown",
   "metadata": {}
  },
  {
   "source": [
    "## What does name.strip() do?\n"
   ],
   "cell_type": "markdown",
   "metadata": {}
  },
  {
   "source": [
    "## What will name.find(“Smith”) return?\n"
   ],
   "cell_type": "markdown",
   "metadata": {}
  },
  {
   "source": [
    "## What will be the value of name after we call name.replace(“j”, “k”)?\n"
   ],
   "cell_type": "markdown",
   "metadata": {}
  },
  {
   "source": [
    "## How can we check to see if name contains “John”?\n"
   ],
   "cell_type": "markdown",
   "metadata": {}
  },
  {
   "source": [
    "## What are the 3 types of numbers in Python?"
   ],
   "cell_type": "markdown",
   "metadata": {}
  },
  {
   "source": [
    "## What are the 3 types of numbers in Python?"
   ],
   "cell_type": "markdown",
   "metadata": {}
  },
  {
   "source": [
    "# Control Flow\n"
   ],
   "cell_type": "markdown",
   "metadata": {}
  },
  {
   "cell_type": "code",
   "execution_count": 60,
   "metadata": {},
   "outputs": [],
   "source": [
    "## What is the difference between 10 / 3 and 10 // 3?"
   ]
  },
  {
   "cell_type": "code",
   "execution_count": 61,
   "metadata": {},
   "outputs": [],
   "source": [
    "## What is the result of 10 ** 3?\n"
   ]
  },
  {
   "cell_type": "code",
   "execution_count": 62,
   "metadata": {},
   "outputs": [],
   "source": [
    "## Given (x = 1), what will be the value of after we run (x += 2)?\n"
   ]
  },
  {
   "cell_type": "code",
   "execution_count": 63,
   "metadata": {},
   "outputs": [],
   "source": [
    "## How can we round a number?\n"
   ]
  },
  {
   "cell_type": "code",
   "execution_count": 64,
   "metadata": {},
   "outputs": [],
   "source": [
    "## What is the result of float(1)?\n"
   ]
  },
  {
   "cell_type": "code",
   "execution_count": 65,
   "metadata": {},
   "outputs": [],
   "source": [
    "## What is the result of bool(“False”)?\n"
   ]
  },
  {
   "cell_type": "code",
   "execution_count": 66,
   "metadata": {},
   "outputs": [
    {
     "output_type": "execute_result",
     "data": {
      "text/plain": [
       "'\\nValues that evaluate to False are considered Falsy,in python that is 0 and empty variable\\nValues that evaluate to True are considered Truthy.in python that is int without 0 and empty thing\\n'"
      ]
     },
     "metadata": {},
     "execution_count": 66
    }
   ],
   "source": [
    "## What are the falsy values in Python?\n",
    "'''\n",
    "Values that evaluate to False are considered Falsy,in python that is 0 and empty variable\n",
    "Values that evaluate to True are considered Truthy.in python that is int without 0 and empty thing\n",
    "'''"
   ]
  },
  {
   "cell_type": "code",
   "execution_count": 67,
   "metadata": {},
   "outputs": [
    {
     "output_type": "execute_result",
     "data": {
      "text/plain": [
       "False"
      ]
     },
     "metadata": {},
     "execution_count": 67
    }
   ],
   "source": [
    "## What is the result of 10 == “10”?\n",
    "10 == '10'"
   ]
  },
  {
   "cell_type": "code",
   "execution_count": 68,
   "metadata": {},
   "outputs": [
    {
     "output_type": "execute_result",
     "data": {
      "text/plain": [
       "False"
      ]
     },
     "metadata": {},
     "execution_count": 68
    }
   ],
   "source": [
    "## What is the result of “bag” > “apple”?\n",
    "'bag' > 'apple'\n",
    "'bagge' > 'apple'\n",
    "'b' > 'apple'\n",
    "'c' > 'apple'\n",
    "'bag' > 'c'"
   ]
  },
  {
   "cell_type": "code",
   "execution_count": 69,
   "metadata": {},
   "outputs": [
    {
     "output_type": "execute_result",
     "data": {
      "text/plain": [
       "False"
      ]
     },
     "metadata": {},
     "execution_count": 69
    }
   ],
   "source": [
    "## What is the result of not(True or False)?\n",
    "not(True or False)"
   ]
  },
  {
   "cell_type": "code",
   "execution_count": 70,
   "metadata": {},
   "outputs": [
    {
     "output_type": "execute_result",
     "data": {
      "text/plain": [
       "True"
      ]
     },
     "metadata": {},
     "execution_count": 70
    }
   ],
   "source": [
    "##Under what circumstances does the expression 18 <= age < 65 evaluate to True?\n",
    "age = 18\n",
    "age = 64.99999999\n",
    "18 <= age < 65 "
   ]
  },
  {
   "cell_type": "code",
   "execution_count": 71,
   "metadata": {},
   "outputs": [
    {
     "output_type": "stream",
     "name": "stdout",
     "text": [
      "range(1, 10, 2)\n1\n3\n5\n7\n9\n"
     ]
    }
   ],
   "source": [
    "## What does range(1, 10, 2) return?\n",
    "range(1,10,2)\n",
    "\n",
    "x = range(1,10,2)\n",
    "print(x)\n",
    "\n",
    "for i in range(1,10,2):\n",
    "    print(i)"
   ]
  },
  {
   "cell_type": "code",
   "execution_count": 72,
   "metadata": {},
   "outputs": [
    {
     "output_type": "execute_result",
     "data": {
      "text/plain": [
       "'\\nlist\\ntuples\\ndict\\nset\\n\\n'"
      ]
     },
     "metadata": {},
     "execution_count": 72
    }
   ],
   "source": [
    "## Name 3 iterable objects in Python.\n",
    "'''\n",
    "list\n",
    "tuples\n",
    "dict\n",
    "set\n",
    "\n",
    "'''"
   ]
  },
  {
   "source": [
    "# Functions"
   ],
   "cell_type": "markdown",
   "metadata": {}
  },
  {
   "cell_type": "code",
   "execution_count": 73,
   "metadata": {},
   "outputs": [
    {
     "output_type": "execute_result",
     "data": {
      "text/plain": [
       "'\\nparameter is what is declared in the function, argument is what is passed through when calling the function\\nand in general consensus there are same'"
      ]
     },
     "metadata": {},
     "execution_count": 73
    }
   ],
   "source": [
    "# What is the difference between a parameter and an argument?\n",
    "'''\n",
    "parameter is what is declared in the function, argument is what is passed through when calling the function\n",
    "and in general consensus there are same'''"
   ]
  },
  {
   "cell_type": "code",
   "execution_count": 74,
   "metadata": {},
   "outputs": [
    {
     "output_type": "execute_result",
     "data": {
      "text/plain": [
       "'\\nNone\\n'"
      ]
     },
     "metadata": {},
     "execution_count": 74
    }
   ],
   "source": [
    "# All functions in Python by default return …?\n",
    "'''\n",
    "None\n",
    "'''"
   ]
  },
  {
   "cell_type": "code",
   "execution_count": 75,
   "metadata": {},
   "outputs": [
    {
     "output_type": "execute_result",
     "data": {
      "text/plain": [
       "\"\\nthe argument use 'a=b' pattern to call, no matter their order\\n\""
      ]
     },
     "metadata": {},
     "execution_count": 75
    }
   ],
   "source": [
    "# What are keyword arguments and when should we use them?\n",
    "'''\n",
    "the argument use 'a=b' pattern to call, no matter their order\n",
    "'''"
   ]
  },
  {
   "cell_type": "code",
   "execution_count": 76,
   "metadata": {},
   "outputs": [
    {
     "output_type": "execute_result",
     "data": {
      "text/plain": [
       "\"\\ndefault arguments: def function(a,b = 'default'):\\n\""
      ]
     },
     "metadata": {},
     "execution_count": 76
    }
   ],
   "source": [
    "# How can we make a parameter of a function optional?\n",
    "'''\n",
    "default arguments: def function(a,b = 'default'):\n",
    "'''"
   ]
  },
  {
   "cell_type": "code",
   "execution_count": 77,
   "metadata": {},
   "outputs": [
    {
     "output_type": "execute_result",
     "data": {
      "text/plain": [
       "'\\narbitray arguments:def function(*numbers):\\n                        for number in numbers\\n'"
      ]
     },
     "metadata": {},
     "execution_count": 77
    }
   ],
   "source": [
    "# What happens when we prefix a parameter with an asterisk (*)?\n",
    "'''\n",
    "arbitray arguments:def function(*numbers):\n",
    "                        for number in numbers\n",
    "'''"
   ]
  },
  {
   "cell_type": "code",
   "execution_count": 78,
   "metadata": {},
   "outputs": [
    {
     "output_type": "execute_result",
     "data": {
      "text/plain": [
       "\"\\n*args (Non-Keyword Arguments)\\n\\n**kwargs (Keyword Arguments)\\n\\ndef function(**maps):\\n    for key,value in maps.items():\\n            print(f'{key},{value}')\\n\""
      ]
     },
     "metadata": {},
     "execution_count": 78
    }
   ],
   "source": [
    "# What about two asterisks (**)?\n",
    "'''\n",
    "*args (Non-Keyword Arguments)\n",
    "\n",
    "**kwargs (Keyword Arguments)\n",
    "\n",
    "def function(**maps):\n",
    "    for key,value in maps.items():\n",
    "            print(f'{key},{value}')\n",
    "'''"
   ]
  },
  {
   "cell_type": "code",
   "execution_count": 79,
   "metadata": {},
   "outputs": [
    {
     "output_type": "execute_result",
     "data": {
      "text/plain": [
       "'\\nA variable is only available from inside the region it is created. This is called scop\\n'"
      ]
     },
     "metadata": {},
     "execution_count": 79
    }
   ],
   "source": [
    "# What is scope?\n",
    "'''\n",
    "A variable is only available from inside the region it is created. This is called scop\n",
    "'''"
   ]
  },
  {
   "cell_type": "code",
   "execution_count": 80,
   "metadata": {},
   "outputs": [
    {
     "output_type": "execute_result",
     "data": {
      "text/plain": [
       "'\\nlocal variables:can only be used inside that function who defined the variable\\n\\nglobal variables:A variable created in the main body of the Python code is a global variable and belongs to the global scope.Global variables are available from within any scope, global and local.\\n'"
      ]
     },
     "metadata": {},
     "execution_count": 80
    }
   ],
   "source": [
    "## What is the difference between local and global variables?\n",
    "'''\n",
    "local variables:can only be used inside that function who defined the variable\n",
    "\n",
    "global variables:A variable created in the main body of the Python code is a global variable and belongs to the global scope.Global variables are available from within any scope, global and local.\n",
    "'''"
   ]
  },
  {
   "cell_type": "code",
   "execution_count": 81,
   "metadata": {},
   "outputs": [
    {
     "output_type": "error",
     "ename": "SyntaxError",
     "evalue": "EOF while scanning triple-quoted string literal (<ipython-input-81-5d908d153fac>, line 2)",
     "traceback": [
      "\u001b[1;36m  File \u001b[1;32m\"<ipython-input-81-5d908d153fac>\"\u001b[1;36m, line \u001b[1;32m2\u001b[0m\n\u001b[1;33m    ''' use global statement as a local variables will cover the origin function\u001b[0m\n\u001b[1;37m                                                                                ^\u001b[0m\n\u001b[1;31mSyntaxError\u001b[0m\u001b[1;31m:\u001b[0m EOF while scanning triple-quoted string literal\n"
     ]
    }
   ],
   "source": [
    "## Why is using the global statement a bad practice?\n",
    "''' use global statement as a local variables will cover the origin function"
   ]
  },
  {
   "source": [
    "# Coding Exercises"
   ],
   "cell_type": "markdown",
   "metadata": {}
  },
  {
   "cell_type": "code",
   "execution_count": 1,
   "metadata": {},
   "outputs": [
    {
     "output_type": "stream",
     "name": "stdout",
     "text": [
      "4354\n"
     ]
    }
   ],
   "source": [
    "# Write a function that returns the maximum of two numbers.\n",
    "\n",
    "def find_max(list):\n",
    "    max = 0\n",
    "    for number in list:\n",
    "        if number > max:\n",
    "            max = number\n",
    "    print(max)\n",
    "\n",
    "list = [1,24,5,7,58,7,64,679,3,1,46,679,70,4354,2,3,76,798]\n",
    "find_max(list)"
   ]
  },
  {
   "cell_type": "code",
   "execution_count": 12,
   "metadata": {},
   "outputs": [
    {
     "output_type": "stream",
     "name": "stdout",
     "text": [
      "4,Fizz,FizzBuzz,Buzz\n"
     ]
    }
   ],
   "source": [
    "''' \n",
    "Write a function called fizz_buzz that takes a number.\n",
    "1.If the number is divisible by 3, it should return “Fizz”.\n",
    "2.If it is divisible by 5, it should return “Buzz”.\n",
    "3.If it is divisible by both 3 and 5, it should return “FizzBuzz”.\n",
    "4.Otherwise, it should return the same number.\n",
    "'''\n",
    "def fizz_buzz(number):\n",
    "    if (number % 3 == 0) and (number % 5 == 0):\n",
    "        return 'FizzBuzz'\n",
    "    elif number % 5 == 0:\n",
    "        return 'Buzz'\n",
    "    elif number % 3 == 0:\n",
    "        return 'Fizz'\n",
    "    else:\n",
    "        return number\n",
    "\n",
    "print(f'{fizz_buzz(4)},{fizz_buzz(9)},{fizz_buzz(15)},{fizz_buzz(10)}')"
   ]
  },
  {
   "cell_type": "code",
   "execution_count": 20,
   "metadata": {},
   "outputs": [
    {
     "output_type": "stream",
     "name": "stdout",
     "text": [
      "Point: 1\nPoint: 12\nLicense suspended\n"
     ]
    }
   ],
   "source": [
    "'''\n",
    "Write a function for checking the speed of drivers.\n",
    "This function should have one parameter: speed.\n",
    "\n",
    "1.If speed is less than 70, it should print “Ok”.\n",
    "2.Otherwise, for every 5km above the speed limit (70), it should give the driver one demerit point and print the total number of demerit points. For example, if the speed is 80, it should print: “Points: 2”.\n",
    "3.If the driver gets more than 12 points, the function should print: “License suspended”\n",
    "'''\n",
    "\n",
    "def speed_test(speed):\n",
    "    if speed < 70:\n",
    "        print('OK')\n",
    "    else:\n",
    "        demerit_point = (speed-70)//5\n",
    "        if demerit_point < 13:\n",
    "            print(f'Point: {demerit_point}')\n",
    "        else:\n",
    "            print('License suspended')\n",
    "\n",
    "speed_test(79)\n",
    "speed_test(133)\n",
    "speed_test(92539)"
   ]
  },
  {
   "cell_type": "code",
   "execution_count": 24,
   "metadata": {},
   "outputs": [
    {
     "output_type": "stream",
     "name": "stdout",
     "text": [
      "0 EVEN\n1 ODD\n2 EVEN\n3 ODD\n4 EVEN\n5 ODD\n6 EVEN\n7 ODD\n8 EVEN\n9 ODD\n10 EVEN\n"
     ]
    }
   ],
   "source": [
    "'''\n",
    "    Write a function called showNumbers that takes a parameter called limit. It should print all the numbers between 0 and limit with a label to identify the even and odd numbers. For example, if the limit is 3, it should print:\n",
    "    0 EVEN\n",
    "    1 ODD\n",
    "    2 EVEN\n",
    "    3 ODD\n",
    "'''\n",
    "def showNumbers(limit):\n",
    "    for number in range(0,limit+1):\n",
    "        if number % 2:\n",
    "            print(f'{number} ODD')\n",
    "        else:\n",
    "            print(f'{number} EVEN')\n",
    "\n",
    "showNumbers(10)"
   ]
  },
  {
   "cell_type": "code",
   "execution_count": 28,
   "metadata": {},
   "outputs": [
    {
     "output_type": "stream",
     "name": "stdout",
     "text": [
      "98\n"
     ]
    }
   ],
   "source": [
    "''' \n",
    "Write a function that returns the sum of multiples of 3 and 5 between 0 and limit (parameter). \n",
    "\n",
    "For example, if limit is 20, it should return the sum of 3, 5, 6, 9, 10, 12, 15, 18, 20.\n",
    "'''\n",
    "\n",
    "def common_multiple(limit):\n",
    "    sum = 0\n",
    "    for number in range(3,limit+1):\n",
    "        if number % 3 == 0:\n",
    "            sum += number\n",
    "        elif number % 5 == 0:\n",
    "            sum += number\n",
    "        \n",
    "    print(sum)\n",
    "\n",
    "common_multiple(20)"
   ]
  },
  {
   "cell_type": "code",
   "execution_count": 30,
   "metadata": {},
   "outputs": [
    {
     "output_type": "stream",
     "name": "stdout",
     "text": [
      "*\n**\n***\n****\n*****\n******\n*******\n********\n*********\n"
     ]
    }
   ],
   "source": [
    "'''\n",
    "Write a function called show_stars(rows). If rows is 5, it should print the following:\n",
    "*\n",
    "**\n",
    "***\n",
    "****\n",
    "*****\n",
    "'''\n",
    "\n",
    "def show_stars(rows):\n",
    "    for row in range(1,rows):\n",
    "        print('*' * row)\n",
    "\n",
    "show_stars(10)"
   ]
  },
  {
   "cell_type": "code",
   "execution_count": 3,
   "metadata": {},
   "outputs": [
    {
     "output_type": "stream",
     "name": "stdout",
     "text": [
      "3\n5\n7\n11\n13\n17\n19\n23\n29\n31\n37\n41\n43\n47\n53\n59\n61\n67\n71\n73\n79\n83\n89\n97\n101\n103\n107\n109\n113\n127\n131\n137\n139\n149\n151\n157\n163\n167\n173\n179\n181\n191\n193\n197\n199\n211\n223\n227\n229\n233\n239\n241\n251\n257\n263\n269\n271\n277\n281\n283\n293\n307\n311\n313\n317\n331\n337\n347\n349\n353\n359\n367\n373\n379\n383\n389\n397\n401\n409\n419\n421\n431\n433\n439\n443\n449\n457\n461\n463\n467\n479\n487\n491\n499\n503\n509\n521\n523\n541\n547\n557\n563\n569\n571\n577\n587\n593\n599\n601\n607\n613\n617\n619\n631\n641\n643\n647\n653\n659\n661\n673\n677\n683\n691\n701\n709\n719\n727\n733\n739\n743\n751\n757\n761\n769\n773\n787\n797\n809\n811\n821\n823\n827\n829\n839\n853\n857\n859\n863\n877\n881\n883\n887\n907\n911\n919\n929\n937\n941\n947\n953\n967\n971\n977\n983\n991\n997\n"
     ]
    }
   ],
   "source": [
    "'''\n",
    "Write a function that prints all the prime numbers between 0 and limit where limit is a parameter\n",
    "'''\n",
    "\n",
    "def prime_number(limit):\n",
    "    for number in range(3,limit):\n",
    "        for test_number in range(2,number):\n",
    "            if test_number+1 == number:\n",
    "                print(number)\n",
    "                break\n",
    "            elif number % test_number == 0:\n",
    "                break\n",
    "\n",
    "prime_number(1000)"
   ]
  }
 ]
}