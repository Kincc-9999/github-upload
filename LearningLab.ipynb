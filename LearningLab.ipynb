{
 "cells": [
  {
   "cell_type": "code",
   "execution_count": 2,
   "metadata": {},
   "outputs": [
    {
     "name": "stdout",
     "output_type": "stream",
     "text": [
      "Kincc \n"
     ]
    }
   ],
   "source": [
    "print(\"Kincc \")"
   ]
  },
  {
   "cell_type": "markdown",
   "metadata": {},
   "source": [
    "# Markdown语言简练\n",
    "http://xianbai.me/learn-md/"
   ]
  },
  {
   "source": [
    "# Jupyter Lab 快捷键\n",
    "Shift-Enter : 运行本单元，选中下个单元\n",
    "Ctrl-Enter : 运行本单元\n",
    "Alt-Enter : 运行本单元，在其下插入新单元\n",
    "Y : 单元转入代码状态(命令模式下)\n",
    "M :单元转入markdown状态(命令模式下)\n",
    "R : 单元转入raw状态\n",
    "1 : 设定 1 级标题\n",
    "2 : 设定 2 级标题\n",
    "3 : 设定 3 级标题\n",
    "4 : 设定 4 级标题\n",
    "5 : 设定 5 级标题\n",
    "6 : 设定 6 级标题\n",
    "Up : 选中上方单元\n",
    "K : 选中上方单元\n",
    "Down : 选中下方单元\n",
    "J : 选中下方单元\n",
    "Shift-K : 扩大选中上方单元\n",
    "Shift-J : 扩大选中下方单元\n",
    "A : 在上方插入新单元\n",
    "B : 在下方插入新单元\n",
    "X : 剪切选中的单元\n",
    "C : 复制选中的单元\n",
    "V : 粘贴到下方单元\n",
    "Z : 恢复删除的最后一个单元\n",
    "D,D : 删除选中的单元\n",
    "Shift-M : 合并选中的单元\n",
    "Ctrl-S : 文件存盘\n",
    "S : 文件存盘\n",
    "L : 转换行号\n",
    "O : 转换输出\n",
    "Shift-O : 转换输出滚动\n",
    "Esc : 关闭页面\n",
    "Q : 关闭页面\n",
    "H : 显示快捷键帮助\n",
    "Shift : 忽略\n",
    "Shift-Space : 向上滚动\n",
    "Space : 向下滚动\n",
    "编辑模式 ( Enter 键启动)\n",
    "Tab : 代码补全或缩进\n",
    "Shift-Tab : 提示\n",
    "Ctrl-] : 缩进\n",
    "Ctrl-[ : 解除缩进\n",
    "Ctrl-A : 全选\n",
    "Ctrl-Z : 复原\n",
    "Ctrl-Shift-Z : 再做\n",
    "Ctrl-Y : 再做\n",
    "Ctrl-Home : 跳到单元开头\n",
    "Ctrl-Up : 跳到单元开头\n",
    "Ctrl-End : 跳到单元末尾\n",
    "Ctrl-Down : 跳到单元末尾\n",
    "Ctrl-Left : 跳到左边一个字首\n",
    "Ctrl-Right : 跳到右边一个字首\n",
    "Shift-Enter : 运行本单元，选中下一单元\n",
    "Alt-Enter : 运行本单元，在下面插入一单元\n",
    "Ctrl-Enter : 运行本单元\n",
    "Ctrl-Shift-- : 分割单元\n",
    "Ctrl-S : 文件存盘\n",
    "Up : 光标上移或转入上一单元\n",
    "Down :光标下移或转入下一单元"
   ],
   "cell_type": "markdown",
   "metadata": {}
  },
  {
   "cell_type": "markdown",
   "metadata": {},
   "source": [
    "# 安装\n",
    "Python语言包安装：Python.org官网<br>\n",
    "编译器:Anaconda jupyter,pycharm, VS code"
   ]
  },
  {
   "cell_type": "markdown",
   "metadata": {},
   "source": [
    "# 打印输出"
   ]
  },
  {
   "cell_type": "code",
   "execution_count": 3,
   "metadata": {},
   "outputs": [
    {
     "name": "stdout",
     "output_type": "stream",
     "text": [
      "some world\n",
      "some world\n"
     ]
    }
   ],
   "source": [
    "print('some world')\n",
    "print(\"some world\")"
   ]
  },
  {
   "cell_type": "code",
   "execution_count": 4,
   "metadata": {},
   "outputs": [
    {
     "name": "stdout",
     "output_type": "stream",
     "text": [
      "some worldsome worldsome worldsome worldsome worldsome worldsome worldsome worldsome worldsome world\n"
     ]
    },
    {
     "name": "stdin",
     "output_type": "stream",
     "text": [
      "what's your name? kincc\n"
     ]
    },
    {
     "name": "stdout",
     "output_type": "stream",
     "text": [
      "some worldkincc\n"
     ]
    }
   ],
   "source": [
    "N=10\n",
    "print('some world' * N)\n",
    "# N is any intge\n",
    "name = input(\"what's your name?\")\n",
    "print('some world '+name)"
   ]
  },
  {
   "cell_type": "markdown",
   "metadata": {},
   "source": [
    "# Variables 变量与赋值"
   ]
  },
  {
   "cell_type": "code",
   "execution_count": 6,
   "metadata": {},
   "outputs": [
    {
     "name": "stdout",
     "output_type": "stream",
     "text": [
      "10\n"
     ]
    }
   ],
   "source": [
    "a=10\n",
    "b=4.9\n",
    "name='mosh'\n",
    "is_pubulished = False\n",
    "print(a)"
   ]
  },
  {
   "cell_type": "markdown",
   "metadata": {},
   "source": [
    "# Receving Input 询问输入"
   ]
  },
  {
   "cell_type": "code",
   "execution_count": 7,
   "metadata": {},
   "outputs": [
    {
     "name": "stdin",
     "output_type": "stream",
     "text": [
      "what's your name? kincc\n"
     ]
    }
   ],
   "source": [
    "name = input(\"what's your name?\")"
   ]
  },
  {
   "cell_type": "markdown",
   "metadata": {},
   "source": [
    "# Type Conversion 数据格式及转换"
   ]
  },
  {
   "cell_type": "code",
   "execution_count": 9,
   "metadata": {},
   "outputs": [
    {
     "name": "stdin",
     "output_type": "stream",
     "text": [
      "what's your birth year? 1996\n"
     ]
    },
    {
     "name": "stdout",
     "output_type": "stream",
     "text": [
      "<class 'str'>\n",
      "<class 'int'>\n",
      "24\n"
     ]
    }
   ],
   "source": [
    "birth_year = input(\"what's your birth year?\")\n",
    "print(type(birth_year))\n",
    "print(type(int(birth_year)))\n",
    "age = 2020-int(birth_year)\n",
    "print(age)"
   ]
  },
  {
   "cell_type": "markdown",
   "metadata": {},
   "source": [
    "## Task1\n",
    "Ask a user thier weight(in pounds),convert it to kliograms and \n",
    "print on the terminal"
   ]
  },
  {
   "cell_type": "markdown",
   "metadata": {},
   "source": [
    "# Answer1\n",
    "\n"
   ]
  },
  {
   "cell_type": "code",
   "execution_count": 14,
   "metadata": {},
   "outputs": [
    {
     "name": "stdin",
     "output_type": "stream",
     "text": [
      "what is your weight in pounds? 100\n"
     ]
    },
    {
     "name": "stdout",
     "output_type": "stream",
     "text": [
      "your weight in pounds is: 45.35\n"
     ]
    }
   ],
   "source": [
    "user_weitgh_pounds = input('what is your weight in pounds?')\n",
    "user_weitgh_kg = 0.4535 * float(user_weitgh_pounds)\n",
    "print('your weight in pounds is:',user_weitgh_kg)"
   ]
  },
  {
   "cell_type": "markdown",
   "metadata": {},
   "source": [
    "# String 字符串的选择"
   ]
  },
  {
   "cell_type": "code",
   "execution_count": 19,
   "metadata": {},
   "outputs": [
    {
     "name": "stdout",
     "output_type": "stream",
     "text": [
      "Python for Beginner\n",
      "P\n",
      "r\n",
      "Pytho\n",
      "Pytho\n",
      "ython for Beginne\n"
     ]
    }
   ],
   "source": [
    "course = 'Python for Beginner'\n",
    "print(course)\n",
    "print(course[0])\n",
    "print(course[-1])\n",
    "print(course[0:5])\n",
    "print(course[:5])\n",
    "print(course[1:-1])"
   ]
  },
  {
   "cell_type": "markdown",
   "metadata": {},
   "source": [
    "# formatted String"
   ]
  },
  {
   "cell_type": "code",
   "execution_count": 21,
   "metadata": {},
   "outputs": [
    {
     "name": "stdout",
     "output_type": "stream",
     "text": [
      "John [Smith] is a coder\n"
     ]
    }
   ],
   "source": [
    "first = 'John'\n",
    "second = 'Smith'\n",
    "mes = f'{first} [{second}] is a coder'\n",
    "print(mes)"
   ]
  },
  {
   "cell_type": "markdown",
   "metadata": {},
   "source": [
    "# String Method 字符串操作"
   ]
  },
  {
   "cell_type": "code",
   "execution_count": 31,
   "metadata": {},
   "outputs": [
    {
     "name": "stdout",
     "output_type": "stream",
     "text": [
      "PYTHON FOR BEGINNER\n",
      "python for beginner\n",
      "0\n",
      "6\n",
      "Python for Absolute Beginners\n",
      "Python For Beginner\n"
     ]
    }
   ],
   "source": [
    "print(course.upper())\n",
    "print(course.lower())\n",
    "print(course.find('P'))\n",
    "print(course.find(' '))\n",
    "print(course.replace('Beginner','Absolute Beginners'))\n",
    "print(course.title())"
   ]
  },
  {
   "cell_type": "markdown",
   "metadata": {},
   "source": [
    "# Arithmetic Operations 数值计算操作"
   ]
  },
  {
   "cell_type": "code",
   "execution_count": 40,
   "metadata": {},
   "outputs": [
    {
     "name": "stdout",
     "output_type": "stream",
     "text": [
      "13\n",
      "30\n",
      "3.3333333333333335\n",
      "3\n",
      "1\n",
      "7\n",
      "10\n",
      "3.3333333333333335\n",
      "10.0\n"
     ]
    }
   ],
   "source": [
    "print(10 + 3)\n",
    "print(10 * 3)\n",
    "print(10 / 3)\n",
    "print(10 // 3)\n",
    "print(10 % 3)\n",
    "x = 10\n",
    "x -= 3\n",
    "print(x)\n",
    "x += 3\n",
    "print(x)\n",
    "x /= 3\n",
    "print(x)\n",
    "x *= 3\n",
    "print(x)"
   ]
  },
  {
   "cell_type": "markdown",
   "metadata": {},
   "source": [
    "# Operator Precedence 算符优先级"
   ]
  },
  {
   "cell_type": "code",
   "execution_count": 42,
   "metadata": {},
   "outputs": [
    {
     "name": "stdout",
     "output_type": "stream",
     "text": [
      "497\n"
     ]
    }
   ],
   "source": [
    "'''\n",
    "1 parenthesis\n",
    "2 exponentiation\n",
    "3 multiplication or division\n",
    "4 addition or subtraction\n",
    "'''\n",
    "x = (2 + 3)*10 ** 2 -3 \n",
    "print(x)"
   ]
  },
  {
   "cell_type": "markdown",
   "metadata": {},
   "source": [
    "# Math Funciton - 数学公式"
   ]
  },
  {
   "cell_type": "code",
   "execution_count": 46,
   "metadata": {},
   "outputs": [],
   "source": [
    "import math"
   ]
  },
  {
   "cell_type": "code",
   "execution_count": 45,
   "metadata": {},
   "outputs": [
    {
     "name": "stdout",
     "output_type": "stream",
     "text": [
      "3\n",
      "2.9\n"
     ]
    }
   ],
   "source": [
    "x =2.9\n",
    "print(round(x))\n",
    "print(abs(-x))"
   ]
  },
  {
   "cell_type": "code",
   "execution_count": 47,
   "metadata": {},
   "outputs": [
    {
     "name": "stdout",
     "output_type": "stream",
     "text": [
      "2\n",
      "3\n"
     ]
    }
   ],
   "source": [
    "print(math.floor(2.9))\n",
    "print(math.ceil(2.9))"
   ]
  },
  {
   "cell_type": "markdown",
   "metadata": {},
   "source": [
    "# if statement 判断语句：if"
   ]
  },
  {
   "cell_type": "code",
   "execution_count": 57,
   "metadata": {},
   "outputs": [
    {
     "name": "stdout",
     "output_type": "stream",
     "text": [
      "It's false\n"
     ]
    }
   ],
   "source": [
    "is_true = False\n",
    "is_false = False\n",
    "\n",
    "if is_true:\n",
    "    print(\"It's true\")\n",
    "elif 1-is_false:\n",
    "    print(\"It's false\")\n",
    "else:\n",
    "    print(\"i don't know\")"
   ]
  },
  {
   "cell_type": "markdown",
   "metadata": {},
   "source": [
    "## Task 2\n",
    "Price of a house is $1M<br>\n",
    "If buyer has good credit<br>\n",
    "&#8195;&#8195;they need to put down 10%<br>\n",
    "Otherwise<br>\n",
    "&#8195;&#8195;they need to put down 20%<br>\n",
    "Print the down payment"
   ]
  },
  {
   "cell_type": "code",
   "execution_count": 65,
   "metadata": {},
   "outputs": [
    {
     "name": "stdin",
     "output_type": "stream",
     "text": [
      "your credit point: 203\n"
     ]
    },
    {
     "name": "stdout",
     "output_type": "stream",
     "text": [
      "you need to rise your credit\n"
     ]
    }
   ],
   "source": [
    "price = 1000000\n",
    "User_Credit_str = input('your credit point:')\n",
    "User_Credit = int(User_Credit_str)\n",
    "if User_Credit > 700 :\n",
    "    print(f'you need to pay at least {0.1*price}$')\n",
    "elif 400< User_Credit <= 700 :\n",
    "    print(f'you need to pay at least {0.2*price}$')\n",
    "else:\n",
    "    print('you need to rise your credit')"
   ]
  },
  {
   "cell_type": "markdown",
   "metadata": {},
   "source": [
    "# Logical Operators - 逻辑操作符"
   ]
  },
  {
   "cell_type": "markdown",
   "metadata": {},
   "source": [
    "and : both<br>\n",
    "or : at least one<br>\n",
    "not : revise "
   ]
  },
  {
   "cell_type": "code",
   "execution_count": 40,
   "metadata": {},
   "outputs": [
    {
     "name": "stdin",
     "output_type": "stream",
     "text": [
      "your income state(0 for low,1 for high): 0\n",
      "your credit tier(0 for normal,1 for good): 1\n"
     ]
    },
    {
     "name": "stdout",
     "output_type": "stream",
     "text": [
      "Not eligible for loan\n"
     ]
    }
   ],
   "source": [
    "high_income = input('your income state(0 for low,1 for high):')\n",
    "good_credit = input('your credit tier(0 for normal,1 for good):')\n",
    "\n",
    "if int(high_income) and int(good_credit):\n",
    "    print('eligible for loan')\n",
    "elif int(high_income) and not int(good_credit):\n",
    "    print('you need to rise your credit')\n",
    "else:\n",
    "    print('Not eligible for loan')"
   ]
  },
  {
   "cell_type": "markdown",
   "metadata": {},
   "source": [
    "# Comparision Operators - 对比操作符"
   ]
  },
  {
   "cell_type": "markdown",
   "metadata": {},
   "source": [
    "'==' equal <br>\n",
    "'!='<br>\n",
    "'<'<br>\n",
    "'>'"
   ]
  },
  {
   "cell_type": "markdown",
   "metadata": {},
   "source": [
    "## Task 3\n",
    "if name is less than 3 characters long<br>\n",
    "&#8195;&#8195;name must be at least 3 characters<br>\n",
    "otherwise if it's more than 50 chatacters long<br>\n",
    "&#8195;&#8195;name can be a maximum of 50 characters<br>\n",
    "otherwise<br>\n",
    "&#8195;&#8195;name looks good!"
   ]
  },
  {
   "cell_type": "code",
   "execution_count": 48,
   "metadata": {},
   "outputs": [
    {
     "name": "stdin",
     "output_type": "stream",
     "text": [
      "your name: 29083ty68aiohyajr2903y8hiowjciojawijrfat4 ae4te4thwe6yywsjsare65km478mw568etd67hsr57vqa4qa2v43awrceastnrumt6u\n"
     ]
    },
    {
     "name": "stdout",
     "output_type": "stream",
     "text": [
      "name can be a maximum of 50 characters\n"
     ]
    }
   ],
   "source": [
    "user_name = input('your name:');\n",
    "\n",
    "if len(user_name) < 3:\n",
    "    print('name must be at least 3 character')\n",
    "elif len(user_name) > 50:\n",
    "    print('name can be a maximum of 50 characters')\n",
    "else:\n",
    "    print('name looks good')"
   ]
  },
  {
   "cell_type": "markdown",
   "metadata": {},
   "source": [
    "# project: Weight Converter"
   ]
  },
  {
   "cell_type": "code",
   "execution_count": 71,
   "metadata": {},
   "outputs": [
    {
     "name": "stdin",
     "output_type": "stream",
     "text": [
      "your weight: 100\n",
      "(L)bs or (K)liogram? l\n"
     ]
    },
    {
     "name": "stdout",
     "output_type": "stream",
     "text": [
      "your are 45.0 kg\n"
     ]
    }
   ],
   "source": [
    "user_weight = int(input('your weight:'))\n",
    "unit = input('(L)bs or (K)liogram?')\n",
    "if unit.upper() == 'L':\n",
    "    print(f'your are {user_weight *0.45} kg')\n",
    "elif unit.upper() == 'K':\n",
    "    print(f'your are {user_weight / 0.45} Lbs')\n",
    "else:\n",
    "    print('input right unit')"
   ]
  },
  {
   "cell_type": "markdown",
   "metadata": {},
   "source": [
    "# whlie loop - while循环\n",
    "\n",
    "while condition:<br>\n",
    "&#8195;&#8195;action<br>\n",
    "&#8195;&#8195;situation and jump out<br>\n",
    "else:<br>\n",
    "&#8195;&#8195;otherwise<br>\n",
    "```"
   ]
  },
  {
   "cell_type": "code",
   "execution_count": 5,
   "metadata": {},
   "outputs": [
    {
     "name": "stdin",
     "output_type": "stream",
     "text": [
      "guess a number(0-99): 54\n",
      "guess a number(0-99): 7\n",
      "guess a number(0-99): 4\n",
      "guess a number(0-99): 3\n"
     ]
    },
    {
     "name": "stdout",
     "output_type": "stream",
     "text": [
      "run out of game count\n"
     ]
    }
   ],
   "source": [
    "secret_number = 99\n",
    "guess_count = 0\n",
    "guess_limit = 4\n",
    "while guess_count < guess_limit:\n",
    "    number = int(input('guess a number(0-99):'))\n",
    "    guess_count += 1\n",
    "    if number == secret_number:\n",
    "        print('you win')\n",
    "        break\n",
    "else:\n",
    "    print('run out of game count')"
   ]
  },
  {
   "cell_type": "markdown",
   "metadata": {},
   "source": [
    "## task 4 car game"
   ]
  },
  {
   "cell_type": "code",
   "execution_count": 20,
   "metadata": {},
   "outputs": [
    {
     "name": "stdin",
     "output_type": "stream",
     "text": [
      "It's a game, try to start and finish it: help\n"
     ]
    },
    {
     "name": "stdout",
     "output_type": "stream",
     "text": [
      "start : to start the car\n",
      "stop : to stop the car\n",
      "quit : to quit the game\n"
     ]
    },
    {
     "name": "stdin",
     "output_type": "stream",
     "text": [
      "> start\n"
     ]
    },
    {
     "name": "stdout",
     "output_type": "stream",
     "text": [
      "car started...\n"
     ]
    },
    {
     "name": "stdin",
     "output_type": "stream",
     "text": [
      "> start\n"
     ]
    },
    {
     "name": "stdout",
     "output_type": "stream",
     "text": [
      "nope , The car has already started\n"
     ]
    },
    {
     "name": "stdin",
     "output_type": "stream",
     "text": [
      "> quit\n"
     ]
    },
    {
     "name": "stdout",
     "output_type": "stream",
     "text": [
      "game will quit,bye\n"
     ]
    }
   ],
   "source": [
    "user_input = input(\"It's a game, try to start and finish it:\").lower()\n",
    "car_started = False\n",
    "\n",
    "while user_input != 'quit':\n",
    "    if user_input == 'help':\n",
    "        print('''start : to start the car\n",
    "stop : to stop the car\n",
    "quit : to quit the game''')\n",
    "        \n",
    "    elif user_input == 'start' and not car_started:\n",
    "        print('car started...')\n",
    "        car_started = True\n",
    "        \n",
    "    elif user_input == 'start' and car_started:\n",
    "        print('nope , The car has already started')\n",
    "        \n",
    "    elif user_input == 'stop' and car_started:\n",
    "        print('car stopped')\n",
    "        car_started = False\n",
    "        \n",
    "    elif user_input == 'stop' and not car_started:\n",
    "        print('nope,The car has already stopped')\n",
    "        \n",
    "    else:\n",
    "        print(\"I don't understand\")\n",
    "        \n",
    "    user_input = input('>').lower()\n",
    "else:\n",
    "    print('game will quit,bye')"
   ]
  },
  {
   "cell_type": "markdown",
   "metadata": {},
   "source": [
    "# for loop - for 循环\n",
    "for item in condition:<br>\n",
    "&#8195;&#8195;action"
   ]
  },
  {
   "cell_type": "code",
   "execution_count": 13,
   "metadata": {},
   "outputs": [
    {
     "name": "stdout",
     "output_type": "stream",
     "text": [
      "total:84\n"
     ]
    }
   ],
   "source": [
    "prices = [5,7,18,54]\n",
    "sum = 0\n",
    "price = 0\n",
    "\n",
    "for price in range(len(prices)):\n",
    "    sum += prices[price]\n",
    "    price += 1\n",
    "    \n",
    "print(f'total:{sum}')"
   ]
  },
  {
   "cell_type": "code",
   "execution_count": 15,
   "metadata": {},
   "outputs": [
    {
     "name": "stdout",
     "output_type": "stream",
     "text": [
      "total:84\n"
     ]
    }
   ],
   "source": [
    "prices = [5,7,18,54]\n",
    "sum = 0\n",
    "price = 0\n",
    "\n",
    "for price in prices:\n",
    "    sum += price\n",
    "    price += 1\n",
    "    \n",
    "print(f'total:{sum}')"
   ]
  },
  {
   "cell_type": "markdown",
   "metadata": {},
   "source": [
    "# Nested Loops - Nested循环"
   ]
  },
  {
   "cell_type": "code",
   "execution_count": 16,
   "metadata": {},
   "outputs": [
    {
     "name": "stdout",
     "output_type": "stream",
     "text": [
      "0,0\n",
      "0,1\n",
      "0,2\n",
      "1,0\n",
      "1,1\n",
      "1,2\n",
      "2,0\n",
      "2,1\n",
      "2,2\n",
      "3,0\n",
      "3,1\n",
      "3,2\n"
     ]
    }
   ],
   "source": [
    "for x in range(4):\n",
    "    for y in range(3):\n",
    "            print(f'{x},{y}')"
   ]
  },
  {
   "cell_type": "code",
   "execution_count": 18,
   "metadata": {},
   "outputs": [
    {
     "name": "stdout",
     "output_type": "stream",
     "text": [
      "xxxxx\n",
      "\n",
      "xx\n",
      "\n",
      "xxxxx\n",
      "\n",
      "xx\n",
      "\n",
      "xx\n",
      "\n"
     ]
    }
   ],
   "source": [
    "numbers = [5,2,5,2,2]\n",
    "for i in numbers:\n",
    "    print('x' * i + '\\n')"
   ]
  },
  {
   "cell_type": "code",
   "execution_count": 22,
   "metadata": {},
   "outputs": [
    {
     "name": "stdout",
     "output_type": "stream",
     "text": [
      "xxxxx\n",
      "xx\n",
      "xxxxx\n",
      "xx\n",
      "xx\n"
     ]
    }
   ],
   "source": [
    "numbers = [5,2,5,2,2]\n",
    "for x_count in numbers:\n",
    "    out = ''\n",
    "    for i in range(x_count):\n",
    "        out += 'x'\n",
    "    print(out)"
   ]
  },
  {
   "cell_type": "markdown",
   "metadata": {},
   "source": [
    "# list - 列表"
   ]
  },
  {
   "cell_type": "code",
   "execution_count": 1,
   "metadata": {},
   "outputs": [
    {
     "name": "stdout",
     "output_type": "stream",
     "text": [
      "['John', 'Bob', 'Mosh', 'Sarah', 'Mary']\n",
      "['Mosh', 'Sarah', 'Mary']\n",
      "['Mosh', 'Sarah']\n",
      "['Jon', 'Bob', 'Mosh', 'Sarah', 'Mary']\n"
     ]
    }
   ],
   "source": [
    "names = ['John','Bob','Mosh','Sarah','Mary']\n",
    "print(names)\n",
    "print(names[2:])\n",
    "print(names[2:4])\n",
    "names[0] = 'Jon'\n",
    "print(names)"
   ]
  },
  {
   "cell_type": "markdown",
   "metadata": {},
   "source": [
    "## Task 5\n",
    "Find the largest number in a list"
   ]
  },
  {
   "cell_type": "code",
   "execution_count": 5,
   "metadata": {},
   "outputs": [
    {
     "name": "stdin",
     "output_type": "stream",
     "text": [
      "give me a number:(q for quit,others for continus) 4\n"
     ]
    },
    {
     "name": "stdout",
     "output_type": "stream",
     "text": [
      "[]\n"
     ]
    },
    {
     "name": "stdin",
     "output_type": "stream",
     "text": [
      "give me a number:(q for quit,others for continus) 58\n",
      "give me a number:(q for quit,others for continus) 7421\n",
      "give me a number:(q for quit,others for continus) 375\n",
      "give me a number:(q for quit,others for continus) 89\n",
      "give me a number:(q for quit,others for continus) 345\n",
      "give me a number:(q for quit,others for continus) 8\n",
      "give me a number:(q for quit,others for continus) 45\n",
      "give me a number:(q for quit,others for continus) 37\n",
      "give me a number:(q for quit,others for continus) 82854\n",
      "give me a number:(q for quit,others for continus) 1\n",
      "give me a number:(q for quit,others for continus) 2343487\n",
      "give me a number:(q for quit,others for continus) 446824\n",
      "give me a number:(q for quit,others for continus) 1\n",
      "give me a number:(q for quit,others for continus) 483\n",
      "give me a number:(q for quit,others for continus) 25\n",
      "give me a number:(q for quit,others for continus) 6\n",
      "give me a number:(q for quit,others for continus) 8\n",
      "give me a number:(q for quit,others for continus) q\n"
     ]
    },
    {
     "name": "stdout",
     "output_type": "stream",
     "text": [
      "['4', '58', '7421', '375', '89', '345', '8', '45', '37', '82854', '1', '2343487', '446824', '1', '483', '25', '6', '8']\n",
      "Largest number in list:2343487\n"
     ]
    }
   ],
   "source": [
    "numbers = []\n",
    "user_input = input('add a number:(q for quit,others for continus)')\n",
    "\n",
    "while user_input != 'q':\n",
    "    numbers.append(user_input)\n",
    "    user_input = input('add a number:(q for quit,others for continus)')\n",
    "\n",
    "print(numbers)\n",
    "medi = 0\n",
    "for compare in numbers:\n",
    "    if medi < int(compare):\n",
    "        medi = int(compare)\n",
    "print(f'Largest number in list:{medi}')"
   ]
  },
  {
   "cell_type": "code",
   "execution_count": 6,
   "metadata": {},
   "outputs": [
    {
     "name": "stdout",
     "output_type": "stream",
     "text": [
      "Largest number in list:2343487\n"
     ]
    }
   ],
   "source": [
    "numbers = ['4', '58', '7421', '375', '89', '345', '8', '45', '37', '82854', '1', '2343487', '446824', '1', '483', '25', '6', '8']\n",
    "\n",
    "medi = 0\n",
    "for compare in numbers:\n",
    "    if medi < int(compare):\n",
    "        medi = int(compare)\n",
    "print(f'Largest number in list:{medi}')"
   ]
  },
  {
   "cell_type": "markdown",
   "metadata": {},
   "source": [
    "# 2D List：Matrix - 2维列表：矩阵"
   ]
  },
  {
   "cell_type": "code",
   "execution_count": 8,
   "metadata": {},
   "outputs": [
    {
     "name": "stdout",
     "output_type": "stream",
     "text": [
      "[[1, 2, 3], [2, 3, 4], [3, 4, 5]]\n",
      "4\n"
     ]
    }
   ],
   "source": [
    "matrix = [[1,2,3],[2,3,4],[3,4,5]]\n",
    "print(matrix)\n",
    "print(matrix[1][2])"
   ]
  },
  {
   "cell_type": "markdown",
   "metadata": {},
   "source": [
    "# list methods - 数组的方法\n"
   ]
  },
  {
   "cell_type": "code",
   "execution_count": 10,
   "metadata": {},
   "outputs": [
    {
     "name": "stdout",
     "output_type": "stream",
     "text": [
      "Help on class list in module builtins:\n",
      "\n",
      "class list(object)\n",
      " |  list(iterable=(), /)\n",
      " |  \n",
      " |  Built-in mutable sequence.\n",
      " |  \n",
      " |  If no argument is given, the constructor creates a new empty list.\n",
      " |  The argument must be an iterable if specified.\n",
      " |  \n",
      " |  Methods defined here:\n",
      " |  \n",
      " |  __add__(self, value, /)\n",
      " |      Return self+value.\n",
      " |  \n",
      " |  __contains__(self, key, /)\n",
      " |      Return key in self.\n",
      " |  \n",
      " |  __delitem__(self, key, /)\n",
      " |      Delete self[key].\n",
      " |  \n",
      " |  __eq__(self, value, /)\n",
      " |      Return self==value.\n",
      " |  \n",
      " |  __ge__(self, value, /)\n",
      " |      Return self>=value.\n",
      " |  \n",
      " |  __getattribute__(self, name, /)\n",
      " |      Return getattr(self, name).\n",
      " |  \n",
      " |  __getitem__(...)\n",
      " |      x.__getitem__(y) <==> x[y]\n",
      " |  \n",
      " |  __gt__(self, value, /)\n",
      " |      Return self>value.\n",
      " |  \n",
      " |  __iadd__(self, value, /)\n",
      " |      Implement self+=value.\n",
      " |  \n",
      " |  __imul__(self, value, /)\n",
      " |      Implement self*=value.\n",
      " |  \n",
      " |  __init__(self, /, *args, **kwargs)\n",
      " |      Initialize self.  See help(type(self)) for accurate signature.\n",
      " |  \n",
      " |  __iter__(self, /)\n",
      " |      Implement iter(self).\n",
      " |  \n",
      " |  __le__(self, value, /)\n",
      " |      Return self<=value.\n",
      " |  \n",
      " |  __len__(self, /)\n",
      " |      Return len(self).\n",
      " |  \n",
      " |  __lt__(self, value, /)\n",
      " |      Return self<value.\n",
      " |  \n",
      " |  __mul__(self, value, /)\n",
      " |      Return self*value.\n",
      " |  \n",
      " |  __ne__(self, value, /)\n",
      " |      Return self!=value.\n",
      " |  \n",
      " |  __repr__(self, /)\n",
      " |      Return repr(self).\n",
      " |  \n",
      " |  __reversed__(self, /)\n",
      " |      Return a reverse iterator over the list.\n",
      " |  \n",
      " |  __rmul__(self, value, /)\n",
      " |      Return value*self.\n",
      " |  \n",
      " |  __setitem__(self, key, value, /)\n",
      " |      Set self[key] to value.\n",
      " |  \n",
      " |  __sizeof__(self, /)\n",
      " |      Return the size of the list in memory, in bytes.\n",
      " |  \n",
      " |  append(self, object, /)\n",
      " |      Append object to the end of the list.\n",
      " |  \n",
      " |  clear(self, /)\n",
      " |      Remove all items from list.\n",
      " |  \n",
      " |  copy(self, /)\n",
      " |      Return a shallow copy of the list.\n",
      " |  \n",
      " |  count(self, value, /)\n",
      " |      Return number of occurrences of value.\n",
      " |  \n",
      " |  extend(self, iterable, /)\n",
      " |      Extend list by appending elements from the iterable.\n",
      " |  \n",
      " |  index(self, value, start=0, stop=9223372036854775807, /)\n",
      " |      Return first index of value.\n",
      " |      \n",
      " |      Raises ValueError if the value is not present.\n",
      " |  \n",
      " |  insert(self, index, object, /)\n",
      " |      Insert object before index.\n",
      " |  \n",
      " |  pop(self, index=-1, /)\n",
      " |      Remove and return item at index (default last).\n",
      " |      \n",
      " |      Raises IndexError if list is empty or index is out of range.\n",
      " |  \n",
      " |  remove(self, value, /)\n",
      " |      Remove first occurrence of value.\n",
      " |      \n",
      " |      Raises ValueError if the value is not present.\n",
      " |  \n",
      " |  reverse(self, /)\n",
      " |      Reverse *IN PLACE*.\n",
      " |  \n",
      " |  sort(self, /, *, key=None, reverse=False)\n",
      " |      Sort the list in ascending order and return None.\n",
      " |      \n",
      " |      The sort is in-place (i.e. the list itself is modified) and stable (i.e. the\n",
      " |      order of two equal elements is maintained).\n",
      " |      \n",
      " |      If a key function is given, apply it once to each list item and sort them,\n",
      " |      ascending or descending, according to their function values.\n",
      " |      \n",
      " |      The reverse flag can be set to sort in descending order.\n",
      " |  \n",
      " |  ----------------------------------------------------------------------\n",
      " |  Static methods defined here:\n",
      " |  \n",
      " |  __new__(*args, **kwargs) from builtins.type\n",
      " |      Create and return a new object.  See help(type) for accurate signature.\n",
      " |  \n",
      " |  ----------------------------------------------------------------------\n",
      " |  Data and other attributes defined here:\n",
      " |  \n",
      " |  __hash__ = None\n",
      "\n"
     ]
    }
   ],
   "source": [
    "help(list)"
   ]
  },
  {
   "cell_type": "code",
   "execution_count": 23,
   "metadata": {},
   "outputs": [
    {
     "name": "stdout",
     "output_type": "stream",
     "text": [
      "[4, 2, 6, 8, 4, 6, 3, 2, 6, 8, 9] \n",
      "\n",
      "append(feed back): None\n",
      "append(list outcome): [4, 2, 6, 8, 4, 6, 3, 2, 6, 8, 9, 9] \n",
      "\n",
      "insert(feed back): None\n",
      "insert(list outcome): [4, 2, 6, 8, 4.5, 4, 6, 3, 2, 6, 8, 9, 9] \n",
      "\n",
      "remove(feed back): None\n",
      "remove(list outcome): [4, 2, 6, 8, 4, 6, 3, 2, 6, 8, 9, 9] \n",
      "\n",
      "pop(feed back): 6\n",
      "pop(list outcome): [4, 2, 8, 4, 6, 3, 2, 6, 8, 9, 9] \n",
      "\n",
      "count(feed back): 2\n",
      "count(list outcome): [4, 2, 8, 4, 6, 3, 2, 6, 8, 9, 9] \n",
      "\n",
      "element check(feed back): False\n",
      "element check(list outcome): [4, 2, 8, 4, 6, 3, 2, 6, 8, 9, 9] \n",
      "\n",
      "sort(feed back): None\n",
      "sort(list outcome): [2, 2, 3, 4, 4, 6, 6, 8, 8, 9, 9] \n",
      "\n",
      "reverse sort(feed back): None\n",
      "reverse sort(list outcome): [9, 9, 8, 8, 6, 6, 4, 4, 3, 2, 2] \n",
      "\n",
      "copy(feed back): [9, 9, 8, 8, 6, 6, 4, 4, 3, 2, 2]\n",
      "clear(list outcome): None \n",
      "\n",
      "list:  []\n",
      "list2: [9, 9, 8, 8, 6, 6, 4, 4, 3, 2, 2]\n"
     ]
    }
   ],
   "source": [
    "# tab键呼出函数自动填充\n",
    "list = [4,2,6,8,4,6,3,2,6,8,9]\n",
    "\n",
    "print(list,'\\n')\n",
    "\n",
    "print('append(feed back):',list.append(9))\n",
    "print('append(list outcome):',list,'\\n')\n",
    "\n",
    "print('insert(feed back):',list.insert(4,4.5))\n",
    "print('insert(list outcome):',list,'\\n')\n",
    "\n",
    "print('remove(feed back):',list.remove(4.5))\n",
    "print('remove(list outcome):',list,'\\n')\n",
    "\n",
    "print('pop(feed back):',list.pop(2))\n",
    "print('pop(list outcome):',list,'\\n')\n",
    "\n",
    "print('count(feed back):',list.count(4))\n",
    "print('count(list outcome):',list,'\\n')\n",
    "\n",
    "print('element check(feed back):',50 in list)\n",
    "print('element check(list outcome):',list,'\\n')\n",
    "\n",
    "print('sort(feed back):',list.sort())\n",
    "print('sort(list outcome):',list,'\\n')\n",
    "\n",
    "print('reverse sort(feed back):',list.sort(reverse=True))\n",
    "print('reverse sort(list outcome):',list,'\\n')\n",
    "\n",
    "print('copy(feed back):',list.copy())\n",
    "list2 = list.copy()\n",
    "print('clear(list outcome):',list.clear(),'\\n')\n",
    "\n",
    "print('list: ',list)\n",
    "print('list2:',list2)"
   ]
  },
  {
   "cell_type": "markdown",
   "metadata": {},
   "source": [
    "## task 6\n",
    "remove the duplicates in a list"
   ]
  },
  {
   "cell_type": "code",
   "execution_count": 18,
   "metadata": {},
   "outputs": [
    {
     "name": "stdout",
     "output_type": "stream",
     "text": [
      "[4.5, 3, 2, 6, 8, 9, 4]\n"
     ]
    }
   ],
   "source": [
    "numbers = [4, 2, 6, 8, 4.5, 4, 6, 3, 2, 6, 8, 9, 9,4,4,4,4,4,4,4]\n",
    "\n",
    "for number in numbers:\n",
    "    while numbers.count(number) > 1:\n",
    "         numbers.remove(number)\n",
    "            \n",
    "print(numbers)\n",
    " \n",
    "#先去重，保留最后一个非重复数据，总体数据倒叙"
   ]
  },
  {
   "cell_type": "code",
   "execution_count": 17,
   "metadata": {},
   "outputs": [
    {
     "name": "stdout",
     "output_type": "stream",
     "text": [
      "[4, 2, 6, 8, 4.5, 3, 9]\n"
     ]
    }
   ],
   "source": [
    "numbers = [4, 2, 6, 8, 4.5, 4, 6, 3, 2, 6, 8, 9, 9,4,4,4,4,4,4,4]\n",
    "deduplication_numbers = []\n",
    "\n",
    "for number in numbers:\n",
    "    if number not in deduplication_numbers:\n",
    "        deduplication_numbers.append(number)\n",
    "        \n",
    "print(deduplication_numbers)\n",
    "\n",
    "#检测重复数据，按顺序加入数据"
   ]
  },
  {
   "cell_type": "markdown",
   "metadata": {},
   "source": [
    "# tuples - 元组\n",
    "name =（items，items）"
   ]
  },
  {
   "cell_type": "code",
   "execution_count": 19,
   "metadata": {},
   "outputs": [
    {
     "name": "stdout",
     "output_type": "stream",
     "text": [
      "Help on class tuple in module builtins:\n",
      "\n",
      "class tuple(object)\n",
      " |  tuple(iterable=(), /)\n",
      " |  \n",
      " |  Built-in immutable sequence.\n",
      " |  \n",
      " |  If no argument is given, the constructor returns an empty tuple.\n",
      " |  If iterable is specified the tuple is initialized from iterable's items.\n",
      " |  \n",
      " |  If the argument is a tuple, the return value is the same object.\n",
      " |  \n",
      " |  Built-in subclasses:\n",
      " |      asyncgen_hooks\n",
      " |      UnraisableHookArgs\n",
      " |  \n",
      " |  Methods defined here:\n",
      " |  \n",
      " |  __add__(self, value, /)\n",
      " |      Return self+value.\n",
      " |  \n",
      " |  __contains__(self, key, /)\n",
      " |      Return key in self.\n",
      " |  \n",
      " |  __eq__(self, value, /)\n",
      " |      Return self==value.\n",
      " |  \n",
      " |  __ge__(self, value, /)\n",
      " |      Return self>=value.\n",
      " |  \n",
      " |  __getattribute__(self, name, /)\n",
      " |      Return getattr(self, name).\n",
      " |  \n",
      " |  __getitem__(self, key, /)\n",
      " |      Return self[key].\n",
      " |  \n",
      " |  __getnewargs__(self, /)\n",
      " |  \n",
      " |  __gt__(self, value, /)\n",
      " |      Return self>value.\n",
      " |  \n",
      " |  __hash__(self, /)\n",
      " |      Return hash(self).\n",
      " |  \n",
      " |  __iter__(self, /)\n",
      " |      Implement iter(self).\n",
      " |  \n",
      " |  __le__(self, value, /)\n",
      " |      Return self<=value.\n",
      " |  \n",
      " |  __len__(self, /)\n",
      " |      Return len(self).\n",
      " |  \n",
      " |  __lt__(self, value, /)\n",
      " |      Return self<value.\n",
      " |  \n",
      " |  __mul__(self, value, /)\n",
      " |      Return self*value.\n",
      " |  \n",
      " |  __ne__(self, value, /)\n",
      " |      Return self!=value.\n",
      " |  \n",
      " |  __repr__(self, /)\n",
      " |      Return repr(self).\n",
      " |  \n",
      " |  __rmul__(self, value, /)\n",
      " |      Return value*self.\n",
      " |  \n",
      " |  count(self, value, /)\n",
      " |      Return number of occurrences of value.\n",
      " |  \n",
      " |  index(self, value, start=0, stop=9223372036854775807, /)\n",
      " |      Return first index of value.\n",
      " |      \n",
      " |      Raises ValueError if the value is not present.\n",
      " |  \n",
      " |  ----------------------------------------------------------------------\n",
      " |  Static methods defined here:\n",
      " |  \n",
      " |  __new__(*args, **kwargs) from builtins.type\n",
      " |      Create and return a new object.  See help(type) for accurate signature.\n",
      "\n"
     ]
    }
   ],
   "source": [
    "help(tuple)"
   ]
  },
  {
   "cell_type": "code",
   "execution_count": 27,
   "metadata": {},
   "outputs": [
    {
     "name": "stdout",
     "output_type": "stream",
     "text": [
      "(4, 2, 6, 8, 4.5, 4, 6, 3, 2, 6, 8, 9, 9, 4, 4, 4, 4, 4, 4, 4)\n",
      "count of 4: 9\n",
      "index of 4: 0\n"
     ]
    }
   ],
   "source": [
    "tuple = (4, 2, 6, 8, 4.5, 4, 6, 3, 2, 6, 8, 9, 9,4,4,4,4,4,4,4)\n",
    "print(tuple)\n",
    "\n",
    "print('count of 4:',tuple.count(4))\n",
    "\n",
    "print('index of 4:',tuple.index(4))"
   ]
  },
  {
   "cell_type": "markdown",
   "metadata": {},
   "source": [
    "# unpacking - "
   ]
  },
  {
   "cell_type": "code",
   "execution_count": 30,
   "metadata": {},
   "outputs": [
    {
     "name": "stdout",
     "output_type": "stream",
     "text": [
      "1 2 3\n"
     ]
    }
   ],
   "source": [
    "coordinates = (1,2,3)\n",
    "x = coordinates[0]\n",
    "y = coordinates[1]\n",
    "z = coordinates[2]\n",
    "\n",
    "print(x,y,z)"
   ]
  },
  {
   "cell_type": "markdown",
   "metadata": {},
   "source": [
    "等价于"
   ]
  },
  {
   "cell_type": "code",
   "execution_count": 31,
   "metadata": {},
   "outputs": [
    {
     "name": "stdout",
     "output_type": "stream",
     "text": [
      "4 5 6\n"
     ]
    }
   ],
   "source": [
    "coordinates = (4,5,6)\n",
    "x,y,z = coordinates\n",
    "\n",
    "print(x,y,z)\n",
    "# 教学技巧：用解决问题的初始顺逻辑做法引出跳跃的最终解决方案"
   ]
  },
  {
   "cell_type": "markdown",
   "metadata": {},
   "source": [
    "# dictionaries - 字典\n",
    "dictionaries = {<br>\n",
    "&#8195;&#8195;'key1':values1,<br>\n",
    "&#8195;&#8195;'key2':values2,<br>\n",
    "&#8195;&#8195;'key3':values3<br>\n",
    "}"
   ]
  },
  {
   "cell_type": "code",
   "execution_count": 38,
   "metadata": {},
   "outputs": [
    {
     "name": "stdout",
     "output_type": "stream",
     "text": [
      "Help on class dict in module builtins:\n",
      "\n",
      "class dict(object)\n",
      " |  dict() -> new empty dictionary\n",
      " |  dict(mapping) -> new dictionary initialized from a mapping object's\n",
      " |      (key, value) pairs\n",
      " |  dict(iterable) -> new dictionary initialized as if via:\n",
      " |      d = {}\n",
      " |      for k, v in iterable:\n",
      " |          d[k] = v\n",
      " |  dict(**kwargs) -> new dictionary initialized with the name=value pairs\n",
      " |      in the keyword argument list.  For example:  dict(one=1, two=2)\n",
      " |  \n",
      " |  Built-in subclasses:\n",
      " |      StgDict\n",
      " |  \n",
      " |  Methods defined here:\n",
      " |  \n",
      " |  __contains__(self, key, /)\n",
      " |      True if the dictionary has the specified key, else False.\n",
      " |  \n",
      " |  __delitem__(self, key, /)\n",
      " |      Delete self[key].\n",
      " |  \n",
      " |  __eq__(self, value, /)\n",
      " |      Return self==value.\n",
      " |  \n",
      " |  __ge__(self, value, /)\n",
      " |      Return self>=value.\n",
      " |  \n",
      " |  __getattribute__(self, name, /)\n",
      " |      Return getattr(self, name).\n",
      " |  \n",
      " |  __getitem__(...)\n",
      " |      x.__getitem__(y) <==> x[y]\n",
      " |  \n",
      " |  __gt__(self, value, /)\n",
      " |      Return self>value.\n",
      " |  \n",
      " |  __init__(self, /, *args, **kwargs)\n",
      " |      Initialize self.  See help(type(self)) for accurate signature.\n",
      " |  \n",
      " |  __iter__(self, /)\n",
      " |      Implement iter(self).\n",
      " |  \n",
      " |  __le__(self, value, /)\n",
      " |      Return self<=value.\n",
      " |  \n",
      " |  __len__(self, /)\n",
      " |      Return len(self).\n",
      " |  \n",
      " |  __lt__(self, value, /)\n",
      " |      Return self<value.\n",
      " |  \n",
      " |  __ne__(self, value, /)\n",
      " |      Return self!=value.\n",
      " |  \n",
      " |  __repr__(self, /)\n",
      " |      Return repr(self).\n",
      " |  \n",
      " |  __reversed__(self, /)\n",
      " |      Return a reverse iterator over the dict keys.\n",
      " |  \n",
      " |  __setitem__(self, key, value, /)\n",
      " |      Set self[key] to value.\n",
      " |  \n",
      " |  __sizeof__(...)\n",
      " |      D.__sizeof__() -> size of D in memory, in bytes\n",
      " |  \n",
      " |  clear(...)\n",
      " |      D.clear() -> None.  Remove all items from D.\n",
      " |  \n",
      " |  copy(...)\n",
      " |      D.copy() -> a shallow copy of D\n",
      " |  \n",
      " |  get(self, key, default=None, /)\n",
      " |      Return the value for key if key is in the dictionary, else default.\n",
      " |  \n",
      " |  items(...)\n",
      " |      D.items() -> a set-like object providing a view on D's items\n",
      " |  \n",
      " |  keys(...)\n",
      " |      D.keys() -> a set-like object providing a view on D's keys\n",
      " |  \n",
      " |  pop(...)\n",
      " |      D.pop(k[,d]) -> v, remove specified key and return the corresponding value.\n",
      " |      If key is not found, d is returned if given, otherwise KeyError is raised\n",
      " |  \n",
      " |  popitem(self, /)\n",
      " |      Remove and return a (key, value) pair as a 2-tuple.\n",
      " |      \n",
      " |      Pairs are returned in LIFO (last-in, first-out) order.\n",
      " |      Raises KeyError if the dict is empty.\n",
      " |  \n",
      " |  setdefault(self, key, default=None, /)\n",
      " |      Insert key with a value of default if key is not in the dictionary.\n",
      " |      \n",
      " |      Return the value for key if key is in the dictionary, else default.\n",
      " |  \n",
      " |  update(...)\n",
      " |      D.update([E, ]**F) -> None.  Update D from dict/iterable E and F.\n",
      " |      If E is present and has a .keys() method, then does:  for k in E: D[k] = E[k]\n",
      " |      If E is present and lacks a .keys() method, then does:  for k, v in E: D[k] = v\n",
      " |      In either case, this is followed by: for k in F:  D[k] = F[k]\n",
      " |  \n",
      " |  values(...)\n",
      " |      D.values() -> an object providing a view on D's values\n",
      " |  \n",
      " |  ----------------------------------------------------------------------\n",
      " |  Class methods defined here:\n",
      " |  \n",
      " |  fromkeys(iterable, value=None, /) from builtins.type\n",
      " |      Create a new dictionary with keys from iterable and values set to value.\n",
      " |  \n",
      " |  ----------------------------------------------------------------------\n",
      " |  Static methods defined here:\n",
      " |  \n",
      " |  __new__(*args, **kwargs) from builtins.type\n",
      " |      Create and return a new object.  See help(type) for accurate signature.\n",
      " |  \n",
      " |  ----------------------------------------------------------------------\n",
      " |  Data and other attributes defined here:\n",
      " |  \n",
      " |  __hash__ = None\n",
      "\n"
     ]
    }
   ],
   "source": [
    "help(dict)"
   ]
  },
  {
   "cell_type": "code",
   "execution_count": 87,
   "metadata": {},
   "outputs": [
    {
     "name": "stdout",
     "output_type": "stream",
     "text": [
      "dict: {'name': 'John Smith', 'age': 30, 'is_verified': True}\n",
      "dictionary: {'name': 'John Smith', 'age': 30, 'is_verified': True} \n",
      "\n",
      "dict.get('age','*'): 30\n",
      "dict.get('not_exist_element','*'): * \n",
      "\n",
      "dict.items(): dict_items([('name', 'John Smith'), ('age', 30), ('is_verified', True)])\n",
      "dict.keys(): dict_keys(['name', 'age', 'is_verified'])\n",
      "dict.values(): dict_values(['John Smith', 30, True]) \n",
      "\n",
      "dict.pop('age'): 30\n",
      "dict.popitem()(LIFO order): ('is_verified', True)\n",
      "dict: {'name': 'John Smith'} \n",
      "\n",
      "dict.setdefault('sex'): None\n",
      "dict.setdefault('name'): John Smith\n",
      "dict: {'name': 'John Smith', 'sex': None} \n",
      "\n",
      "dict.update(customer): None \n",
      "\n",
      "dictionaries: {'name': 'John Smith', 'age': 30, 'is_verified': True}\n",
      "dict: {'name': 'John Smith', 'sex': None, 'region': 'china', 'collage': 'MIT', 'level': 'master'}\n"
     ]
    }
   ],
   "source": [
    "dictionary = {\n",
    "    'name':'John Smith',\n",
    "    'age':30,\n",
    "    'is_verified':True\n",
    "}\n",
    "\n",
    "customer = {\n",
    "    'region':'china',\n",
    "    'collage':'MIT',\n",
    "    'level':'master'\n",
    "}\n",
    "\n",
    "dict = dictionary.copy()\n",
    "\n",
    "print('dict:',dict)\n",
    "print('dictionary:',dictionary,'\\n')\n",
    "\n",
    "print(\"dict.get('age','*'):\",dictionary.get('age','*'))\n",
    "print(\"dict.get('not_exist_element','*'):\",dictionary.get('not_exist_element','*'),'\\n')\n",
    "\n",
    "print('dict.items():',dict.items())\n",
    "print('dict.keys():',dict.keys())\n",
    "print('dict.values():',dict.values(),'\\n')\n",
    "\n",
    "print(\"dict.pop('age'):\",dict.pop('age'))\n",
    "print('dict.popitem()(LIFO order):',dict.popitem())\n",
    "print('dict:',dict,'\\n')\n",
    "\n",
    "# Pairs are returned in LIFO (last-in, first-out) order.\n",
    "# Raises KeyError if the dict is empty.\n",
    "\n",
    "print(\"dict.setdefault('sex'):\",dict.setdefault('sex'))\n",
    "print(\"dict.setdefault('name'):\",dict.setdefault('name'))\n",
    "print('dict:',dict,'\\n')\n",
    "\n",
    "print(\"dict.update(customer):\",dict.update(customer),'\\n')\n",
    "\n",
    "print('dictionaries:',dictionaries)\n",
    "print('dict:',dict)"
   ]
  },
  {
   "cell_type": "code",
   "execution_count": 79,
   "metadata": {},
   "outputs": [
    {
     "name": "stdin",
     "output_type": "stream",
     "text": [
      "what's your name? kincc\n",
      "what's your phone number? 12687503545691548787878777777\n"
     ]
    },
    {
     "name": "stdout",
     "output_type": "stream",
     "text": [
      "hey,kincc your phone number(12687503545691548787878777777) is:\n",
      "\n",
      "one two six eight seven five zero three five four five six nine one five four eight seven eight seven eight seven eight seven seven seven seven seven seven \n"
     ]
    }
   ],
   "source": [
    "contact = {}\n",
    "contact.setdefault('name')\n",
    "contact.setdefault('phone_number')\n",
    "\n",
    "contact['name'] = input(\"what's your name?\")\n",
    "contact['phone_number'] = input(\"what's your phone number?\")\n",
    "user_name = contact.get('name')\n",
    "user_phonenumber = contact.get('phone_number')\n",
    "\n",
    "print(f'hey,{user_name} your phone number({user_phonenumber}) is:\\n')\n",
    "english_numebr = ''\n",
    "\n",
    "for number in user_phonenumber:\n",
    "    number = int(number)\n",
    "    if  number == 0:\n",
    "        english_numebr += 'zero '\n",
    "    elif  number == 1:\n",
    "        english_numebr += 'one '\n",
    "    elif  number == 2:\n",
    "        english_numebr += 'two '\n",
    "    elif  number == 3:\n",
    "        english_numebr += 'three '\n",
    "    elif  number == 4:\n",
    "        english_numebr += 'four '\n",
    "    elif  number == 5:\n",
    "        english_numebr += 'five '\n",
    "    elif  number == 6:\n",
    "        english_numebr += 'six '\n",
    "    elif  number == 7:\n",
    "        english_numebr += 'seven '\n",
    "    elif  number == 8:\n",
    "        english_numebr += 'eight '\n",
    "    elif  number == 9:\n",
    "        english_numebr += 'nine '\n",
    "    else:\n",
    "        english_numebr += '*'\n",
    "print(english_numebr)"
   ]
  },
  {
   "cell_type": "code",
   "execution_count": 85,
   "metadata": {},
   "outputs": [
    {
     "name": "stdin",
     "output_type": "stream",
     "text": [
      "what's your name? kincc\n",
      "what's your phone number? 1235468704sfe\n"
     ]
    },
    {
     "name": "stdout",
     "output_type": "stream",
     "text": [
      "hey kincc, your phone number(1235468704sfe) is:\n",
      "\n",
      "one two three five four six eight seven zero four * * * \n"
     ]
    }
   ],
   "source": [
    "contact = {\n",
    "    'name':None,\n",
    "    'phone_number':None\n",
    "}\n",
    "\n",
    "digits_mapping={\n",
    "    '1':'one',\n",
    "    '2':'two',\n",
    "    '3':'three',\n",
    "    '4':'four',\n",
    "    '5':'five',\n",
    "    '6':'six',\n",
    "    '7':'seven',\n",
    "    '8':'eight',\n",
    "    '9':'nine',\n",
    "    '0':'zero'\n",
    "}\n",
    "\n",
    "user_name = contact['name'] = input(\"what's your name?\")\n",
    "user_phonenumber = contact['phone_number'] = input(\"what's your phone number?\")\n",
    "digits_english = ''\n",
    "\n",
    "print(f'hey {user_name}, your phone number({user_phonenumber}) is:\\n')\n",
    "\n",
    "for number in user_phonenumber:\n",
    "    digits_english += digits_mapping.get(number,'*') + ' '\n",
    "print(digits_english)"
   ]
  },
  {
   "cell_type": "markdown",
   "metadata": {},
   "source": [
    "# Emoji Converter - 表情转换"
   ]
  },
  {
   "cell_type": "code",
   "execution_count": 93,
   "metadata": {},
   "outputs": [
    {
     "name": "stdin",
     "output_type": "stream",
     "text": [
      "> hey what are you doing ^3^\n"
     ]
    },
    {
     "name": "stdout",
     "output_type": "stream",
     "text": [
      "hey what are you doing 😙 \n"
     ]
    }
   ],
   "source": [
    "words = input('>').split(' ')\n",
    "emojis = {\n",
    "    ':)':'😊',\n",
    "    ':(':'😞',\n",
    "    ':D':'😀',\n",
    "    '^_~':'😜',\n",
    "    '^_^':'😏',\n",
    "    '^0^':'😁',\n",
    "    'O.O':'😳',\n",
    "    '^3^':'😙',\n",
    "    ':-3':'🤪'\n",
    "}\n",
    "word_emoji = ''\n",
    "\n",
    "for word in words:\n",
    "    word_emoji += emojis.get(word,word)+' '\n",
    "\n",
    "print(word_emoji)"
   ]
  },
  {
   "cell_type": "markdown",
   "metadata": {},
   "source": [
    "# Function - 方程\n",
    "def function_name():<br>\n",
    "&#8195;&#8195;function action"
   ]
  },
  {
   "cell_type": "code",
   "execution_count": 98,
   "metadata": {},
   "outputs": [
    {
     "name": "stdout",
     "output_type": "stream",
     "text": [
      "start\n",
      "Hi, there\n",
      "Welcome aboard\n",
      "end\n"
     ]
    }
   ],
   "source": [
    "def greet_2_user():\n",
    "    print('Hi, there\\nWelcome aboard')\n",
    "    \n",
    "print('start')\n",
    "greet2_user()\n",
    "print('end')"
   ]
  },
  {
   "cell_type": "markdown",
   "metadata": {},
   "source": [
    "# Parameters - 参数\n",
    "def function_name(parameter):<br>\n",
    "&#8195;&#8195;function action(parameter)"
   ]
  },
  {
   "cell_type": "code",
   "execution_count": 101,
   "metadata": {},
   "outputs": [
    {
     "name": "stdout",
     "output_type": "stream",
     "text": [
      "start\n",
      "Hi kincc, Welcome aboard\n",
      "end\n"
     ]
    }
   ],
   "source": [
    "def greet_2_user(name):\n",
    "    print(f'Hi {name}, Welcome aboard')\n",
    "\n",
    "print('start')\n",
    "greet_2_user('kincc')\n",
    "print('end')"
   ]
  },
  {
   "cell_type": "markdown",
   "metadata": {},
   "source": [
    "# Keyword Arguments - 关键字参数"
   ]
  },
  {
   "cell_type": "code",
   "execution_count": 104,
   "metadata": {},
   "outputs": [
    {
     "name": "stdout",
     "output_type": "stream",
     "text": [
      "start\n",
      "Hi f kincc, Welcome aboard\n",
      "end\n"
     ]
    }
   ],
   "source": [
    "def greet_2_user(first_name,second_name):\n",
    "    print(f'Hi {first_name} {second_name}, Welcome aboard')\n",
    "\n",
    "print('start')\n",
    "greet_2_user(second_name='kincc',first_name='f')\n",
    "print('end')"
   ]
  },
  {
   "cell_type": "markdown",
   "metadata": {},
   "source": [
    "# return statement - 返回值\n",
    "def function_name(parameter):<br>\n",
    "&#8195;&#8195;function action(parameter)<br>\n",
    "&#8195;&#8195;return return_value"
   ]
  },
  {
   "cell_type": "code",
   "execution_count": 107,
   "metadata": {},
   "outputs": [
    {
     "name": "stdout",
     "output_type": "stream",
     "text": [
      "25\n"
     ]
    }
   ],
   "source": [
    "def square(lens):\n",
    "    square = lens * lens\n",
    "    return square\n",
    "\n",
    "print(square(5))"
   ]
  },
  {
   "cell_type": "markdown",
   "metadata": {},
   "source": [
    "# Creating a Reusable Function - 创建可复用的方程"
   ]
  },
  {
   "cell_type": "code",
   "execution_count": 108,
   "metadata": {},
   "outputs": [
    {
     "name": "stdin",
     "output_type": "stream",
     "text": [
      "> hey what are you doing ^3^\n"
     ]
    },
    {
     "name": "stdout",
     "output_type": "stream",
     "text": [
      "hey what are you doing 😙 \n"
     ]
    }
   ],
   "source": [
    "def word_2_emoji(words):\n",
    "    words = words.split(' ')\n",
    "\n",
    "    emojis = {\n",
    "        ':)':'😊',\n",
    "        ':(':'😞',\n",
    "        ':D':'😀',\n",
    "        '^_~':'😜',\n",
    "        '^_^':'😏',\n",
    "        '^0^':'😁',\n",
    "        'O.O':'😳',\n",
    "        '^3^':'😙',\n",
    "        ':-3':'🤪'\n",
    "    }\n",
    "    word_emoji = ''\n",
    "\n",
    "    for word in words:\n",
    "        word_emoji += emojis.get(word,word)+' '\n",
    "\n",
    "    return word_emoji\n",
    "\n",
    "print(word_2_emoji(input('>')))"
   ]
  },
  {
   "cell_type": "markdown",
   "metadata": {},
   "source": [
    "# Exceptions - 例外"
   ]
  },
  {
   "cell_type": "code",
   "execution_count": 114,
   "metadata": {},
   "outputs": [
    {
     "name": "stdin",
     "output_type": "stream",
     "text": [
      "Age: 2162\n",
      "Income: s321\n"
     ]
    },
    {
     "name": "stdout",
     "output_type": "stream",
     "text": [
      "must be a number\n"
     ]
    }
   ],
   "source": [
    "try:\n",
    "    age = int(input('Age:'))\n",
    "    income = int(input('Income:'))\n",
    "    \n",
    "    risk = income / age\n",
    "    print(f'In {age} years old, your finacial risk is {risk}')\n",
    "\n",
    "except ZeroDivisionError:\n",
    "    print(\"age can't be 0\")\n",
    "except ValueError:\n",
    "    print('must be a number')"
   ]
  },
  {
   "cell_type": "markdown",
   "metadata": {},
   "source": [
    "# Comments - 注释"
   ]
  },
  {
   "cell_type": "code",
   "execution_count": 118,
   "metadata": {},
   "outputs": [
    {
     "data": {
      "text/plain": [
       "'\\n注释方法3\\n'"
      ]
     },
     "execution_count": 118,
     "metadata": {},
     "output_type": "execute_result"
    }
   ],
   "source": [
    "# 注释方法1\n",
    "\n",
    "\"\"\"\n",
    "注释方法2\n",
    "\"\"\"\n",
    "\n",
    "'''\n",
    "注释方法3\n",
    "'''"
   ]
  },
  {
   "cell_type": "markdown",
   "metadata": {},
   "source": [
    "# Classes - 类\n",
    "规范：自定义类的命名用单词首字母大写的连续单词"
   ]
  },
  {
   "cell_type": "code",
   "execution_count": 139,
   "metadata": {},
   "outputs": [
    {
     "name": "stdout",
     "output_type": "stream",
     "text": [
      "move\n",
      "draw\n",
      "10\n",
      "20\n"
     ]
    }
   ],
   "source": [
    "class Point:\n",
    "    def move(self):\n",
    "        print('move')\n",
    "    def draw(self):\n",
    "        print('draw')\n",
    "\n",
    "Point().move()\n",
    "\n",
    "point1 = Point()\n",
    "point1.draw()\n",
    "\n",
    "point1.x = 10\n",
    "point1.y = 30\n",
    "\n",
    "print(point1.x)\n",
    "\n",
    "point2 = Point()\n",
    "point2.x = 20\n",
    "print(point2.x)"
   ]
  },
  {
   "cell_type": "markdown",
   "metadata": {},
   "source": [
    "# Constructors - 构造函数"
   ]
  },
  {
   "cell_type": "code",
   "execution_count": 142,
   "metadata": {},
   "outputs": [
    {
     "name": "stdout",
     "output_type": "stream",
     "text": [
      "10\n"
     ]
    }
   ],
   "source": [
    "class Point:\n",
    "    def __init__(self,x,y):\n",
    "        self.x = x\n",
    "        self.y = y\n",
    "    def move(self):\n",
    "        print('move')\n",
    "    def draw(self):\n",
    "        print('draw')\n",
    "        \n",
    "point1 = Point(10,20)\n",
    "print(point1.x)"
   ]
  },
  {
   "cell_type": "code",
   "execution_count": 149,
   "metadata": {},
   "outputs": [
    {
     "name": "stdin",
     "output_type": "stream",
     "text": [
      "> hello\n"
     ]
    },
    {
     "name": "stdout",
     "output_type": "stream",
     "text": [
      "hello\n"
     ]
    },
    {
     "name": "stdin",
     "output_type": "stream",
     "text": [
      "> who are you\n"
     ]
    },
    {
     "name": "stdout",
     "output_type": "stream",
     "text": [
      "who are you\n"
     ]
    },
    {
     "name": "stdin",
     "output_type": "stream",
     "text": [
      "> i am kincc\n"
     ]
    },
    {
     "name": "stdout",
     "output_type": "stream",
     "text": [
      "i am kincc\n"
     ]
    },
    {
     "name": "stdin",
     "output_type": "stream",
     "text": [
      "> what?\n"
     ]
    },
    {
     "name": "stdout",
     "output_type": "stream",
     "text": [
      "what?\n"
     ]
    },
    {
     "name": "stdin",
     "output_type": "stream",
     "text": [
      "> 9999\n"
     ]
    }
   ],
   "source": [
    "class Person:\n",
    "    def __init__(self,name):\n",
    "        self.name = name\n",
    "    def talk(self,words):\n",
    "        print(words)\n",
    "        \n",
    "user1 = Person('kincc')\n",
    "words = input('>')\n",
    "while words != '9999':\n",
    "    user1.talk(words)\n",
    "    words = input('>')"
   ]
  },
  {
   "cell_type": "markdown",
   "metadata": {},
   "source": [
    "# Inheritance - 继承 （类与子类）"
   ]
  },
  {
   "cell_type": "code",
   "execution_count": 154,
   "metadata": {},
   "outputs": [
    {
     "name": "stdout",
     "output_type": "stream",
     "text": [
      "walk\n",
      "annoying\n",
      "walk\n"
     ]
    }
   ],
   "source": [
    "class Mammal:\n",
    "    def walk(self):\n",
    "        print('walk')\n",
    "\n",
    "class Dog(Mammal):\n",
    "    pass\n",
    "\n",
    "class Cat(Mammal):\n",
    "    def be_annoying(self):\n",
    "        print('annoying')\n",
    "        \n",
    "dog1 = Dog()\n",
    "dog1.walk()\n",
    "cat1 = Cat()\n",
    "cat1.be_annoying()\n",
    "cat1.walk()\n"
   ]
  },
  {
   "cell_type": "markdown",
   "metadata": {},
   "source": [
    "# Modules - 模组\n",
    "cmotainer of functions and classes<br>\n",
    "导入方法1：import modules<br>\n",
    "&#8195;&#8195;调用：modules.function()<br>\n",
    "导入方法2：from modules import function<br>\n",
    "&#8195;&#8195;调用：function()<br>"
   ]
  },
  {
   "cell_type": "code",
   "execution_count": 1,
   "metadata": {},
   "outputs": [
    {
     "name": "stdout",
     "output_type": "stream",
     "text": [
      "148.88888888888889\n"
     ]
    }
   ],
   "source": [
    "import mess_converter\n",
    "print(mess_converter.kg_to_lbs(67))"
   ]
  },
  {
   "cell_type": "code",
   "execution_count": 4,
   "metadata": {},
   "outputs": [
    {
     "name": "stdout",
     "output_type": "stream",
     "text": [
      "148.88888888888889\n"
     ]
    }
   ],
   "source": [
    "from mess_converter import kg_to_lbs\n",
    "print(kg_to_lbs(67))"
   ]
  },
  {
   "cell_type": "code",
   "execution_count": 2,
   "metadata": {},
   "outputs": [
    {
     "name": "stdout",
     "output_type": "stream",
     "text": [
      "346\n"
     ]
    }
   ],
   "source": [
    "import utili\n",
    "numbers = [12,346,54,2,2,65,6,67,78,45,78,6,0,3,35]\n",
    "utili.find_max(numbers)"
   ]
  },
  {
   "cell_type": "markdown",
   "metadata": {},
   "source": [
    "# Package - 函数包\n",
    "container of multiple modules<br>\n",
    "导入方法1：import packes.modules<br>\n",
    "&#8195;&#8195;调用：packes.modules.function()<br>\n",
    "导入方法2：from packes.modules import function<br>\n",
    "&#8195;&#8195;调用：function()<br>"
   ]
  },
  {
   "cell_type": "code",
   "execution_count": 1,
   "metadata": {},
   "outputs": [
    {
     "name": "stdout",
     "output_type": "stream",
     "text": [
      "calc_shipping\n"
     ]
    }
   ],
   "source": [
    "import ecommerce.shipping\n",
    "\n",
    "ecommerce.shipping.calc_shipping()"
   ]
  },
  {
   "cell_type": "code",
   "execution_count": 3,
   "metadata": {},
   "outputs": [
    {
     "name": "stdout",
     "output_type": "stream",
     "text": [
      "calc_shipping\n"
     ]
    }
   ],
   "source": [
    "from ecommerce.shipping import calc_shipping\n",
    "calc_shipping()"
   ]
  },
  {
   "cell_type": "markdown",
   "metadata": {},
   "source": [
    "# Generate Random Values - 生成随机数"
   ]
  },
  {
   "cell_type": "code",
   "execution_count": 10,
   "metadata": {},
   "outputs": [
    {
     "name": "stdout",
     "output_type": "stream",
     "text": [
      "0.3501698551355188\n",
      "0.7459035726138806\n",
      "0.47363313368587445\n",
      "20\n",
      "20\n",
      "16\n",
      "Mosh\n"
     ]
    }
   ],
   "source": [
    "import random\n",
    "\n",
    "for i in range(3):\n",
    "    print(random.random())\n",
    "    \n",
    "for i in range(3):\n",
    "    print(random.randint(10,20))\n",
    "    \n",
    "members = ['John','Mary','Bob','Mosh']\n",
    "choice = random.choice(members)\n",
    "print(choice)"
   ]
  },
  {
   "cell_type": "code",
   "execution_count": 18,
   "metadata": {},
   "outputs": [],
   "source": [
    "class Dice:\n",
    "    def roll(self):\n",
    "        from random import random\n",
    "        rolls = (random(),random())\n",
    "        return rolls"
   ]
  },
  {
   "cell_type": "code",
   "execution_count": 19,
   "metadata": {},
   "outputs": [
    {
     "name": "stdout",
     "output_type": "stream",
     "text": [
      "(0.6881771582298444, 0.6183477137201466)\n"
     ]
    }
   ],
   "source": [
    "rolls = Dice()\n",
    "print(rolls.roll())"
   ]
  },
  {
   "cell_type": "code",
   "execution_count": 20,
   "metadata": {},
   "outputs": [],
   "source": [
    "class Dice:\n",
    "    def roll(self):\n",
    "        from random import random\n",
    "        first = random()\n",
    "        second = random()\n",
    "        return first,second"
   ]
  },
  {
   "cell_type": "code",
   "execution_count": 21,
   "metadata": {},
   "outputs": [
    {
     "name": "stdout",
     "output_type": "stream",
     "text": [
      "(0.05476175171523734, 0.47306793401650826)\n"
     ]
    }
   ],
   "source": [
    "rolls = Dice()\n",
    "print(rolls.roll())"
   ]
  },
  {
   "cell_type": "markdown",
   "metadata": {},
   "source": [
    "# Files and Directionries - 文件与官方文档\n",
    "https://docs.python.org/3/py-modindex.html"
   ]
  },
  {
   "cell_type": "code",
   "execution_count": 26,
   "metadata": {},
   "outputs": [
    {
     "name": "stdout",
     "output_type": "stream",
     "text": [
      "True\n",
      "None\n",
      "None\n"
     ]
    }
   ],
   "source": [
    "from pathlib import Path\n",
    "\n",
    "\"\"\"\n",
    "Absolute path\n",
    "C:\\Program Files\\Microsoft\n",
    "/usr/local/bin\n",
    "\"\"\" \n",
    "\"\"\"\n",
    "Relative path\n",
    "\\.\n",
    "\"\"\"\n",
    "\n",
    "path = Path('ecommerce')\n",
    "print(path.exists())\n",
    "# print(Path('mktest').mkdir())\n",
    "print(Path('rmtest1').rmdir())\n",
    "print(Path('rmtest2').rmdir())"
   ]
  },
  {
   "cell_type": "code",
   "execution_count": 32,
   "metadata": {},
   "outputs": [
    {
     "name": "stdout",
     "output_type": "stream",
     "text": [
      "<class 'generator'>\n",
      ".ipynb_checkpoints\n",
      "LearningLab.ipynb\n",
      "mess_converter.py\n",
      "py3 in one pic.png\n",
      "Python知识地图_1212.xmind\n",
      "Rename.py\n",
      "utili.py\n"
     ]
    }
   ],
   "source": [
    "# * means every thing\n",
    "\n",
    "print(type(path.glob('*.*')))\n",
    "\n",
    "for file in Path().glob('*.*'):\n",
    "    print(file)"
   ]
  },
  {
   "cell_type": "markdown",
   "metadata": {},
   "source": [
    "# Pypi and Pip(huh?) - Pypi和Pip\n",
    "install package on pypi(for example, openpyxl)<br>\n",
    "https://pypi.org/"
   ]
  }
 ],
 "metadata": {
  "kernelspec": {
   "display_name": "Python 3.8.5 64-bit",
   "language": "python",
   "name": "python38564bitefa95767455b4e8a8d94b7a1bd564746"
  },
  "language_info": {
   "codemirror_mode": {
    "name": "ipython",
    "version": 3
   },
   "file_extension": ".py",
   "mimetype": "text/x-python",
   "name": "python",
   "nbconvert_exporter": "python",
   "pygments_lexer": "ipython3",
   "version": "3.8.5-final"
  }
 },
 "nbformat": 4,
 "nbformat_minor": 4
}